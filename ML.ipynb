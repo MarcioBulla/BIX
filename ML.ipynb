{
 "cells": [
  {
   "cell_type": "markdown",
   "id": "aa0f9c71-4dac-4d39-a678-a3c4814b1472",
   "metadata": {},
   "source": [
    "# Preparativos"
   ]
  },
  {
   "cell_type": "markdown",
   "id": "d9f5d17d-4135-48f4-8383-0d10869de7c0",
   "metadata": {},
   "source": [
    "## Importando bibliotecas"
   ]
  },
  {
   "cell_type": "code",
   "execution_count": 1,
   "id": "84333151-71c2-48a7-b727-8f47589bc805",
   "metadata": {},
   "outputs": [],
   "source": [
    "import pandas as pd\n",
    "import numpy as np\n",
    "import os\n",
    "import matplotlib.pyplot as plt\n",
    "import seaborn as sns"
   ]
  },
  {
   "cell_type": "markdown",
   "id": "63b12b8e-aeb4-41da-bade-60d7a629b855",
   "metadata": {},
   "source": [
    "## input dados"
   ]
  },
  {
   "cell_type": "markdown",
   "id": "141654ac-0f72-422a-991b-535a9b5a62f1",
   "metadata": {},
   "source": [
    "1. Dados de venda\n",
    "    - ID: identificador único de uma venda\n",
    "    - ProductID: identificador único de um produto\n",
    "    - ClientID: identificador único de um cliente\n",
    "    - Discount: desconto aplicado em uma venda\n",
    "    - UnitPrice: preço unitário de um produto vendido\n",
    "    - Quantity: quantidade de produto vendido em uma venda\n",
    "    - StoreID: identificador único de uma loja\n",
    "    - Date: data de uma venda\n",
    "\n",
    "\n",
    "2. Dados de consumidores\n",
    "    - ID: identificador único de um consumidor\n",
    "    - City: cidade/localidade onde um consumidor fez a compra\n",
    "    - State: Unidade Federativa onde um consumidor fez a compra\n",
    "    - DateOfBirth: data de nascimento de um consumidor\n",
    "    - Sex: sexo de um consumidor\n",
    "\n",
    "\n",
    "\n",
    "3. Dados de lojas\n",
    "    - ID: identificador único de uma loja\n",
    "    - Name: cidade/localidade de uma loja\n",
    "    - State: Unidade Federativa de uma loja\n",
    "\n",
    "\n",
    "\n",
    "4. Dados de produto\n",
    "    - ID: identificador único de um produto\n",
    "    - Name: nome de um produto\n",
    "    - Size: tamanho de um produto"
   ]
  },
  {
   "cell_type": "markdown",
   "id": "e288d201-58d6-48a5-bb9e-f437b74e62bf",
   "metadata": {},
   "source": [
    "### Paht dos dados"
   ]
  },
  {
   "cell_type": "code",
   "execution_count": 2,
   "id": "73f2e8cb-a0db-4a65-8d8d-b1a61e2a8b6d",
   "metadata": {},
   "outputs": [],
   "source": [
    "root = os.path.join(\"Base_de_Dados\")\n",
    "path_venda = os.path.join(root, \"Sheet1.csv\")\n",
    "path_produto = os.path.join(root, \"Sheet2.csv\")\n",
    "path_consumidor = os.path.join(root, \"Sheet3.csv\")\n",
    "path_loja = os.path.join(root, \"Sheet4.csv\")\n"
   ]
  },
  {
   "cell_type": "markdown",
   "id": "c2bb0569-0ebe-4f2c-a745-34167a21c2c1",
   "metadata": {},
   "source": [
    "#### Dados de Venda"
   ]
  },
  {
   "cell_type": "code",
   "execution_count": 3,
   "id": "ffbf97cb-ff43-4fb8-8697-1866a40827c8",
   "metadata": {},
   "outputs": [
    {
     "data": {
      "text/html": [
       "<div>\n",
       "<style scoped>\n",
       "    .dataframe tbody tr th:only-of-type {\n",
       "        vertical-align: middle;\n",
       "    }\n",
       "\n",
       "    .dataframe tbody tr th {\n",
       "        vertical-align: top;\n",
       "    }\n",
       "\n",
       "    .dataframe thead th {\n",
       "        text-align: right;\n",
       "    }\n",
       "</style>\n",
       "<table border=\"1\" class=\"dataframe\">\n",
       "  <thead>\n",
       "    <tr style=\"text-align: right;\">\n",
       "      <th></th>\n",
       "      <th>ID</th>\n",
       "      <th>ProductID</th>\n",
       "      <th>ClientID</th>\n",
       "      <th>Discount</th>\n",
       "      <th>UnitPrice</th>\n",
       "      <th>Quantity</th>\n",
       "      <th>StoreID</th>\n",
       "      <th>Date</th>\n",
       "    </tr>\n",
       "  </thead>\n",
       "  <tbody>\n",
       "    <tr>\n",
       "      <th>0</th>\n",
       "      <td>80260d682079b6090c8285b398c50d97</td>\n",
       "      <td>002552c0663708129c0019cc97552d7d3</td>\n",
       "      <td>14001</td>\n",
       "      <td>0,08</td>\n",
       "      <td>249,2</td>\n",
       "      <td>1</td>\n",
       "      <td>4</td>\n",
       "      <td>12/10/2018</td>\n",
       "    </tr>\n",
       "    <tr>\n",
       "      <th>1</th>\n",
       "      <td>3275736da1234f55d52bdf09d86b93bc</td>\n",
       "      <td>001b237c0e9bb435f2e54071129237e93</td>\n",
       "      <td>14001</td>\n",
       "      <td>0,1</td>\n",
       "      <td>162,4</td>\n",
       "      <td>1</td>\n",
       "      <td>4</td>\n",
       "      <td>4/25/2019</td>\n",
       "    </tr>\n",
       "    <tr>\n",
       "      <th>2</th>\n",
       "      <td>f3513eec8f1434b5b7e04ddf3598df40</td>\n",
       "      <td>00066f42aeeb9f3007548bb9d3f33c381</td>\n",
       "      <td>14001</td>\n",
       "      <td>0,1</td>\n",
       "      <td>194,6</td>\n",
       "      <td>1</td>\n",
       "      <td>4</td>\n",
       "      <td>7/17/2019</td>\n",
       "    </tr>\n",
       "    <tr>\n",
       "      <th>3</th>\n",
       "      <td>7180475b60fe6bbbde424d39704a1177</td>\n",
       "      <td>001b72dfd63e9833e8c02742adf472e33</td>\n",
       "      <td>14002</td>\n",
       "      <td>0,1</td>\n",
       "      <td>201,6</td>\n",
       "      <td>2</td>\n",
       "      <td>1</td>\n",
       "      <td>4/10/2018</td>\n",
       "    </tr>\n",
       "    <tr>\n",
       "      <th>4</th>\n",
       "      <td>76600853a200fe87e141adae6b35674c</td>\n",
       "      <td>00210e41887c2a8ef9f791ebc780cc363</td>\n",
       "      <td>14002</td>\n",
       "      <td>0,1</td>\n",
       "      <td>406</td>\n",
       "      <td>1</td>\n",
       "      <td>1</td>\n",
       "      <td>1/21/2019</td>\n",
       "    </tr>\n",
       "  </tbody>\n",
       "</table>\n",
       "</div>"
      ],
      "text/plain": [
       "                                 ID                          ProductID  \\\n",
       "0  80260d682079b6090c8285b398c50d97  002552c0663708129c0019cc97552d7d3   \n",
       "1  3275736da1234f55d52bdf09d86b93bc  001b237c0e9bb435f2e54071129237e93   \n",
       "2  f3513eec8f1434b5b7e04ddf3598df40  00066f42aeeb9f3007548bb9d3f33c381   \n",
       "3  7180475b60fe6bbbde424d39704a1177  001b72dfd63e9833e8c02742adf472e33   \n",
       "4  76600853a200fe87e141adae6b35674c  00210e41887c2a8ef9f791ebc780cc363   \n",
       "\n",
       "   ClientID Discount UnitPrice  Quantity  StoreID        Date  \n",
       "0     14001     0,08     249,2         1        4  12/10/2018  \n",
       "1     14001      0,1     162,4         1        4   4/25/2019  \n",
       "2     14001      0,1     194,6         1        4   7/17/2019  \n",
       "3     14002      0,1     201,6         2        1   4/10/2018  \n",
       "4     14002      0,1       406         1        1   1/21/2019  "
      ]
     },
     "execution_count": 3,
     "metadata": {},
     "output_type": "execute_result"
    }
   ],
   "source": [
    "df_venda = pd.read_csv(path_venda, skiprows=4)\n",
    "df_venda.dropna(axis=1, how=\"all\", inplace=True)\n",
    "df_venda.head()\n"
   ]
  },
  {
   "cell_type": "markdown",
   "id": "594026b1-80cb-4ac3-87aa-cb15996a72e8",
   "metadata": {},
   "source": [
    "#### Dados de Produto"
   ]
  },
  {
   "cell_type": "code",
   "execution_count": 4,
   "id": "4ebf3ff2-763b-4ffd-acce-057ae5701d8c",
   "metadata": {},
   "outputs": [
    {
     "data": {
      "text/html": [
       "<div>\n",
       "<style scoped>\n",
       "    .dataframe tbody tr th:only-of-type {\n",
       "        vertical-align: middle;\n",
       "    }\n",
       "\n",
       "    .dataframe tbody tr th {\n",
       "        vertical-align: top;\n",
       "    }\n",
       "\n",
       "    .dataframe thead th {\n",
       "        text-align: right;\n",
       "    }\n",
       "</style>\n",
       "<table border=\"1\" class=\"dataframe\">\n",
       "  <thead>\n",
       "    <tr style=\"text-align: right;\">\n",
       "      <th></th>\n",
       "      <th>ID</th>\n",
       "      <th>Name</th>\n",
       "      <th>Size</th>\n",
       "    </tr>\n",
       "  </thead>\n",
       "  <tbody>\n",
       "    <tr>\n",
       "      <th>0</th>\n",
       "      <td>00066f42aeeb9f3007548bb9d3f33c381</td>\n",
       "      <td>Capitão América</td>\n",
       "      <td>P</td>\n",
       "    </tr>\n",
       "    <tr>\n",
       "      <th>1</th>\n",
       "      <td>00066f42aeeb9f3007548bb9d3f33c382</td>\n",
       "      <td>Capitão América</td>\n",
       "      <td>M</td>\n",
       "    </tr>\n",
       "    <tr>\n",
       "      <th>2</th>\n",
       "      <td>00066f42aeeb9f3007548bb9d3f33c383</td>\n",
       "      <td>Capitão América</td>\n",
       "      <td>G</td>\n",
       "    </tr>\n",
       "    <tr>\n",
       "      <th>3</th>\n",
       "      <td>00088930e925c41fd95ebfe695fd26551</td>\n",
       "      <td>Thor</td>\n",
       "      <td>P</td>\n",
       "    </tr>\n",
       "    <tr>\n",
       "      <th>4</th>\n",
       "      <td>00088930e925c41fd95ebfe695fd26552</td>\n",
       "      <td>Thor</td>\n",
       "      <td>M</td>\n",
       "    </tr>\n",
       "  </tbody>\n",
       "</table>\n",
       "</div>"
      ],
      "text/plain": [
       "                                  ID             Name Size\n",
       "0  00066f42aeeb9f3007548bb9d3f33c381  Capitão América    P\n",
       "1  00066f42aeeb9f3007548bb9d3f33c382  Capitão América    M\n",
       "2  00066f42aeeb9f3007548bb9d3f33c383  Capitão América    G\n",
       "3  00088930e925c41fd95ebfe695fd26551             Thor    P\n",
       "4  00088930e925c41fd95ebfe695fd26552             Thor    M"
      ]
     },
     "execution_count": 4,
     "metadata": {},
     "output_type": "execute_result"
    }
   ],
   "source": [
    "df_produto = pd.read_csv(path_produto)\n",
    "df_produto.head()\n"
   ]
  },
  {
   "cell_type": "markdown",
   "id": "d879b3dd-a40e-46f2-a4f6-d00c8047c3c3",
   "metadata": {},
   "source": [
    "#### Dados de Consumidor"
   ]
  },
  {
   "cell_type": "code",
   "execution_count": 5,
   "id": "62cf8604-4ed6-4153-8611-6b00e7f65695",
   "metadata": {},
   "outputs": [
    {
     "data": {
      "text/html": [
       "<div>\n",
       "<style scoped>\n",
       "    .dataframe tbody tr th:only-of-type {\n",
       "        vertical-align: middle;\n",
       "    }\n",
       "\n",
       "    .dataframe tbody tr th {\n",
       "        vertical-align: top;\n",
       "    }\n",
       "\n",
       "    .dataframe thead th {\n",
       "        text-align: right;\n",
       "    }\n",
       "</style>\n",
       "<table border=\"1\" class=\"dataframe\">\n",
       "  <thead>\n",
       "    <tr style=\"text-align: right;\">\n",
       "      <th></th>\n",
       "      <th>ID</th>\n",
       "      <th>City</th>\n",
       "      <th>State</th>\n",
       "      <th>DateOfBirth</th>\n",
       "      <th>Sex</th>\n",
       "    </tr>\n",
       "  </thead>\n",
       "  <tbody>\n",
       "    <tr>\n",
       "      <th>0</th>\n",
       "      <td>14001</td>\n",
       "      <td>Curitiba</td>\n",
       "      <td>PR</td>\n",
       "      <td>6/28/1985</td>\n",
       "      <td>Homem</td>\n",
       "    </tr>\n",
       "    <tr>\n",
       "      <th>1</th>\n",
       "      <td>14002</td>\n",
       "      <td>Florianópolis</td>\n",
       "      <td>SC</td>\n",
       "      <td>1/10/1987</td>\n",
       "      <td>Homem</td>\n",
       "    </tr>\n",
       "    <tr>\n",
       "      <th>2</th>\n",
       "      <td>14003</td>\n",
       "      <td>Rio de Janeiro</td>\n",
       "      <td>RJ</td>\n",
       "      <td>11/5/1979</td>\n",
       "      <td>Homem</td>\n",
       "    </tr>\n",
       "    <tr>\n",
       "      <th>3</th>\n",
       "      <td>14004</td>\n",
       "      <td>Rio de Janeiro</td>\n",
       "      <td>RJ</td>\n",
       "      <td>11/25/1983</td>\n",
       "      <td>Mulher</td>\n",
       "    </tr>\n",
       "    <tr>\n",
       "      <th>4</th>\n",
       "      <td>14005</td>\n",
       "      <td>Florianópolis</td>\n",
       "      <td>SC</td>\n",
       "      <td>4/7/1969</td>\n",
       "      <td>Homem</td>\n",
       "    </tr>\n",
       "  </tbody>\n",
       "</table>\n",
       "</div>"
      ],
      "text/plain": [
       "      ID            City State DateOfBirth     Sex\n",
       "0  14001        Curitiba    PR   6/28/1985   Homem\n",
       "1  14002   Florianópolis    SC   1/10/1987   Homem\n",
       "2  14003  Rio de Janeiro    RJ   11/5/1979   Homem\n",
       "3  14004  Rio de Janeiro    RJ  11/25/1983  Mulher\n",
       "4  14005   Florianópolis    SC    4/7/1969   Homem"
      ]
     },
     "execution_count": 5,
     "metadata": {},
     "output_type": "execute_result"
    }
   ],
   "source": [
    "df_consumidor = pd.read_csv(path_consumidor)\n",
    "df_consumidor.head()"
   ]
  },
  {
   "cell_type": "markdown",
   "id": "95d0cf0c-b853-477c-bbdc-802a8045a013",
   "metadata": {},
   "source": [
    "#### Dados de loja"
   ]
  },
  {
   "cell_type": "code",
   "execution_count": 6,
   "id": "4a68d7c1-eb36-4d18-a287-484a38767f60",
   "metadata": {},
   "outputs": [
    {
     "data": {
      "text/html": [
       "<div>\n",
       "<style scoped>\n",
       "    .dataframe tbody tr th:only-of-type {\n",
       "        vertical-align: middle;\n",
       "    }\n",
       "\n",
       "    .dataframe tbody tr th {\n",
       "        vertical-align: top;\n",
       "    }\n",
       "\n",
       "    .dataframe thead th {\n",
       "        text-align: right;\n",
       "    }\n",
       "</style>\n",
       "<table border=\"1\" class=\"dataframe\">\n",
       "  <thead>\n",
       "    <tr style=\"text-align: right;\">\n",
       "      <th></th>\n",
       "      <th>ID</th>\n",
       "      <th>Name</th>\n",
       "      <th>State</th>\n",
       "    </tr>\n",
       "  </thead>\n",
       "  <tbody>\n",
       "    <tr>\n",
       "      <th>0</th>\n",
       "      <td>1</td>\n",
       "      <td>Florianópolis</td>\n",
       "      <td>SC</td>\n",
       "    </tr>\n",
       "    <tr>\n",
       "      <th>1</th>\n",
       "      <td>2</td>\n",
       "      <td>Rio de Janeiro</td>\n",
       "      <td>RJ</td>\n",
       "    </tr>\n",
       "    <tr>\n",
       "      <th>2</th>\n",
       "      <td>3</td>\n",
       "      <td>Porto Alegre</td>\n",
       "      <td>RS</td>\n",
       "    </tr>\n",
       "    <tr>\n",
       "      <th>3</th>\n",
       "      <td>4</td>\n",
       "      <td>Curitiba</td>\n",
       "      <td>PR</td>\n",
       "    </tr>\n",
       "    <tr>\n",
       "      <th>4</th>\n",
       "      <td>7</td>\n",
       "      <td>São Paulo</td>\n",
       "      <td>SP</td>\n",
       "    </tr>\n",
       "  </tbody>\n",
       "</table>\n",
       "</div>"
      ],
      "text/plain": [
       "   ID            Name State\n",
       "0   1   Florianópolis    SC\n",
       "1   2  Rio de Janeiro    RJ\n",
       "2   3    Porto Alegre    RS\n",
       "3   4        Curitiba    PR\n",
       "4   7       São Paulo    SP"
      ]
     },
     "execution_count": 6,
     "metadata": {},
     "output_type": "execute_result"
    }
   ],
   "source": [
    "df_loja = pd.read_csv(path_loja)\n",
    "df_loja.head()"
   ]
  },
  {
   "cell_type": "markdown",
   "id": "f847d8ab-9f52-43b8-997b-5ed1faa71b16",
   "metadata": {},
   "source": [
    "# Questionario\n"
   ]
  },
  {
   "cell_type": "markdown",
   "id": "619aef82-38d1-45e2-9999-39bb2ba9e180",
   "metadata": {},
   "source": [
    "## Alternativa 5\n",
    "Quantos produtos únicos foram vendidos?\n"
   ]
  },
  {
   "cell_type": "code",
   "execution_count": 7,
   "id": "bf0ff3ec-5f25-43dc-bb3a-f51f5a91071c",
   "metadata": {},
   "outputs": [
    {
     "data": {
      "text/plain": [
       "73"
      ]
     },
     "execution_count": 7,
     "metadata": {},
     "output_type": "execute_result"
    }
   ],
   "source": [
    "df_produto.ID.nunique()\n"
   ]
  },
  {
   "cell_type": "markdown",
   "id": "ed25d4ca-995f-4e07-b97b-a841efcf0215",
   "metadata": {},
   "source": [
    "## Alternativa 6\n",
    "Qual o produto mais vendido e quantos desse produto foram vendidos?"
   ]
  },
  {
   "cell_type": "code",
   "execution_count": 8,
   "id": "5e0a32f5-63a1-4476-a6a9-c4616054de99",
   "metadata": {},
   "outputs": [],
   "source": [
    "map_protuct_ID_Name =  dict(zip(df_produto.ID, df_produto.Name + \", \" + df_produto.Size))"
   ]
  },
  {
   "cell_type": "code",
   "execution_count": 9,
   "id": "91147e8f-0b75-48bd-aff5-6f5ee2ff3eba",
   "metadata": {},
   "outputs": [],
   "source": [
    "df_venda[\"ProdutName\"] = df_venda.ProductID.map(map_protuct_ID_Name)"
   ]
  },
  {
   "cell_type": "code",
   "execution_count": 10,
   "id": "81145e31-339e-47f0-8cbc-be66552d9bb5",
   "metadata": {},
   "outputs": [
    {
     "data": {
      "text/html": [
       "<div>\n",
       "<style scoped>\n",
       "    .dataframe tbody tr th:only-of-type {\n",
       "        vertical-align: middle;\n",
       "    }\n",
       "\n",
       "    .dataframe tbody tr th {\n",
       "        vertical-align: top;\n",
       "    }\n",
       "\n",
       "    .dataframe thead th {\n",
       "        text-align: right;\n",
       "    }\n",
       "</style>\n",
       "<table border=\"1\" class=\"dataframe\">\n",
       "  <thead>\n",
       "    <tr style=\"text-align: right;\">\n",
       "      <th></th>\n",
       "      <th>ProductID</th>\n",
       "      <th>ProdutName</th>\n",
       "      <th>Quantity</th>\n",
       "    </tr>\n",
       "  </thead>\n",
       "  <tbody>\n",
       "    <tr>\n",
       "      <th>62</th>\n",
       "      <td>002ec297b1b00fb9dde7ee6ac24b67713</td>\n",
       "      <td>Bazinga, G</td>\n",
       "      <td>1020</td>\n",
       "    </tr>\n",
       "    <tr>\n",
       "      <th>59</th>\n",
       "      <td>002d4ea7c04739c130bb74d7e7cd16943</td>\n",
       "      <td>Iron Man, G</td>\n",
       "      <td>1018</td>\n",
       "    </tr>\n",
       "    <tr>\n",
       "      <th>8</th>\n",
       "      <td>0009406fd7479715e4bef61dd91f24623</td>\n",
       "      <td>Deadpool, G</td>\n",
       "      <td>998</td>\n",
       "    </tr>\n",
       "    <tr>\n",
       "      <th>32</th>\n",
       "      <td>001c5d71ac6ad696d22315953758fa043</td>\n",
       "      <td>Capitã Marvel, G</td>\n",
       "      <td>996</td>\n",
       "    </tr>\n",
       "    <tr>\n",
       "      <th>17</th>\n",
       "      <td>0011c512eb256aa0dbbb544d8dffcf6e3</td>\n",
       "      <td>Flash, G</td>\n",
       "      <td>996</td>\n",
       "    </tr>\n",
       "  </tbody>\n",
       "</table>\n",
       "</div>"
      ],
      "text/plain": [
       "                            ProductID        ProdutName  Quantity\n",
       "62  002ec297b1b00fb9dde7ee6ac24b67713        Bazinga, G      1020\n",
       "59  002d4ea7c04739c130bb74d7e7cd16943       Iron Man, G      1018\n",
       "8   0009406fd7479715e4bef61dd91f24623       Deadpool, G       998\n",
       "32  001c5d71ac6ad696d22315953758fa043  Capitã Marvel, G       996\n",
       "17  0011c512eb256aa0dbbb544d8dffcf6e3          Flash, G       996"
      ]
     },
     "execution_count": 10,
     "metadata": {},
     "output_type": "execute_result"
    }
   ],
   "source": [
    "df_num_vendas = df_venda.groupby([\"ProductID\", \"ProdutName\"]).sum()[\"Quantity\"].reset_index().copy()\n",
    "df_num_vendas.sort_values(by=[\"Quantity\"], ascending=False).head()"
   ]
  },
  {
   "cell_type": "markdown",
   "id": "52234e50-54c8-453b-a244-ebb8a9846e7f",
   "metadata": {},
   "source": [
    "## Alternativa 7\n",
    "Considerando o ano de 2019, qual gráfico abaixo mais se parece à quantidade mensal do vendida do produto \"Iron Man, G\" ? "
   ]
  },
  {
   "cell_type": "code",
   "execution_count": 11,
   "id": "e61844e6-6566-4992-9fb4-697983a82038",
   "metadata": {},
   "outputs": [
    {
     "data": {
      "text/plain": [
       "<AxesSubplot:xlabel='Date'>"
      ]
     },
     "execution_count": 11,
     "metadata": {},
     "output_type": "execute_result"
    },
    {
     "data": {
      "image/png": "[encoded data removed]",
      "text/plain": [
       "<Figure size 640x480 with 1 Axes>"
      ]
     },
     "metadata": {},
     "output_type": "display_data"
    }
   ],
   "source": [
    "df_venda.Date = df_venda.Date.astype(\"datetime64[ns]\")\n",
    "df_venda.groupby(by=[df_venda.Date.dt.year, df_venda.Date.dt.month, \"ProdutName\"]).sum().loc[2019, :, \"Iron Man, G\",:].Quantity.plot(grid=True)"
   ]
  },
  {
   "cell_type": "markdown",
   "id": "3781288f-6d67-44c1-b7ed-cbda22146e67",
   "metadata": {},
   "source": [
    "## Alternativa 8\n",
    "Considerando a receita líquida mensal de vendas em 2019. Quais os valores de: média, mediana e desvio padrão desses valores? "
   ]
  },
  {
   "cell_type": "code",
   "execution_count": 12,
   "id": "14183869-56fc-4d08-b242-bdeb87a16894",
   "metadata": {},
   "outputs": [],
   "source": [
    "df_venda.UnitPrice = df_venda.UnitPrice.str.replace(\",\", \".\").astype(\"float\")"
   ]
  },
  {
   "cell_type": "code",
   "execution_count": 13,
   "id": "9c5868ef-5371-48ca-ad66-7327141df1ac",
   "metadata": {},
   "outputs": [
    {
     "data": {
      "text/html": [
       "<div>\n",
       "<style scoped>\n",
       "    .dataframe tbody tr th:only-of-type {\n",
       "        vertical-align: middle;\n",
       "    }\n",
       "\n",
       "    .dataframe tbody tr th {\n",
       "        vertical-align: top;\n",
       "    }\n",
       "\n",
       "    .dataframe thead th {\n",
       "        text-align: right;\n",
       "    }\n",
       "</style>\n",
       "<table border=\"1\" class=\"dataframe\">\n",
       "  <thead>\n",
       "    <tr style=\"text-align: right;\">\n",
       "      <th></th>\n",
       "      <th>Month</th>\n",
       "      <th>UnitPrice</th>\n",
       "      <th>Quantity</th>\n",
       "      <th>Receita</th>\n",
       "    </tr>\n",
       "  </thead>\n",
       "  <tbody>\n",
       "    <tr>\n",
       "      <th>0</th>\n",
       "      <td>1</td>\n",
       "      <td>114.8</td>\n",
       "      <td>39</td>\n",
       "      <td>4477.2</td>\n",
       "    </tr>\n",
       "    <tr>\n",
       "      <th>1</th>\n",
       "      <td>1</td>\n",
       "      <td>117.6</td>\n",
       "      <td>45</td>\n",
       "      <td>5292.0</td>\n",
       "    </tr>\n",
       "    <tr>\n",
       "      <th>2</th>\n",
       "      <td>1</td>\n",
       "      <td>134.4</td>\n",
       "      <td>44</td>\n",
       "      <td>5913.6</td>\n",
       "    </tr>\n",
       "    <tr>\n",
       "      <th>3</th>\n",
       "      <td>1</td>\n",
       "      <td>148.4</td>\n",
       "      <td>86</td>\n",
       "      <td>12762.4</td>\n",
       "    </tr>\n",
       "    <tr>\n",
       "      <th>4</th>\n",
       "      <td>1</td>\n",
       "      <td>156.8</td>\n",
       "      <td>44</td>\n",
       "      <td>6899.2</td>\n",
       "    </tr>\n",
       "  </tbody>\n",
       "</table>\n",
       "</div>"
      ],
      "text/plain": [
       "   Month  UnitPrice  Quantity  Receita\n",
       "0      1      114.8        39   4477.2\n",
       "1      1      117.6        45   5292.0\n",
       "2      1      134.4        44   5913.6\n",
       "3      1      148.4        86  12762.4\n",
       "4      1      156.8        44   6899.2"
      ]
     },
     "execution_count": 13,
     "metadata": {},
     "output_type": "execute_result"
    }
   ],
   "source": [
    "df_venda2019 = df_venda.groupby(by=[df_venda.Date.dt.year,df_venda.Date.dt.month,  \"UnitPrice\"]).sum().loc[2019,[\"Quantity\"]]\n",
    "df_venda2019.reset_index(inplace=True)\n",
    "df_venda2019.rename(columns={\"Date\": \"Month\"}, inplace=True)\n",
    "\n",
    "df_venda2019[\"Receita\"] = df_venda2019.Quantity * df_venda2019.UnitPrice\n",
    "df_venda2019.head()"
   ]
  },
  {
   "cell_type": "code",
   "execution_count": 14,
   "id": "3cb340db-f3c6-4265-b72f-7b3c88d7a354",
   "metadata": {},
   "outputs": [
    {
     "data": {
      "text/plain": [
       "count        12.000000\n",
       "mean     324240.933333\n",
       "std      105678.209798\n",
       "min      187203.800000\n",
       "25%      265072.150000\n",
       "50%      285989.900000\n",
       "75%      357271.950000\n",
       "max      495861.800000\n",
       "Name: Receita, dtype: float64"
      ]
     },
     "execution_count": 14,
     "metadata": {},
     "output_type": "execute_result"
    }
   ],
   "source": [
    "df_venda2019.groupby(\"Month\").sum().Receita.describe()"
   ]
  },
  {
   "cell_type": "markdown",
   "id": "f53a8e9b-ff2a-49ef-b1f8-9393034b0e8d",
   "metadata": {},
   "source": [
    "## Alternatia 9\n",
    "Ainda considerando os dados de receita líquida de vendas em 2019, seu time deve focar esforços em uma das lojas para criar análises mais profundas e a primeira versão do modelo preditivo. Qual destas lojas você escolheria para prosseguir com o projeto? "
   ]
  },
  {
   "cell_type": "code",
   "execution_count": 15,
   "id": "956a363f-1cbe-4b44-9d3a-82b01c8c6300",
   "metadata": {},
   "outputs": [
    {
     "data": {
      "text/html": [
       "<div>\n",
       "<style scoped>\n",
       "    .dataframe tbody tr th:only-of-type {\n",
       "        vertical-align: middle;\n",
       "    }\n",
       "\n",
       "    .dataframe tbody tr th {\n",
       "        vertical-align: top;\n",
       "    }\n",
       "\n",
       "    .dataframe thead th {\n",
       "        text-align: right;\n",
       "    }\n",
       "</style>\n",
       "<table border=\"1\" class=\"dataframe\">\n",
       "  <thead>\n",
       "    <tr style=\"text-align: right;\">\n",
       "      <th></th>\n",
       "      <th>ID</th>\n",
       "      <th>Name</th>\n",
       "      <th>State</th>\n",
       "    </tr>\n",
       "  </thead>\n",
       "  <tbody>\n",
       "    <tr>\n",
       "      <th>0</th>\n",
       "      <td>1</td>\n",
       "      <td>Florianópolis</td>\n",
       "      <td>SC</td>\n",
       "    </tr>\n",
       "    <tr>\n",
       "      <th>1</th>\n",
       "      <td>2</td>\n",
       "      <td>Rio de Janeiro</td>\n",
       "      <td>RJ</td>\n",
       "    </tr>\n",
       "    <tr>\n",
       "      <th>2</th>\n",
       "      <td>3</td>\n",
       "      <td>Porto Alegre</td>\n",
       "      <td>RS</td>\n",
       "    </tr>\n",
       "    <tr>\n",
       "      <th>3</th>\n",
       "      <td>4</td>\n",
       "      <td>Curitiba</td>\n",
       "      <td>PR</td>\n",
       "    </tr>\n",
       "    <tr>\n",
       "      <th>4</th>\n",
       "      <td>7</td>\n",
       "      <td>São Paulo</td>\n",
       "      <td>SP</td>\n",
       "    </tr>\n",
       "    <tr>\n",
       "      <th>5</th>\n",
       "      <td>9</td>\n",
       "      <td>Belo Horizonte</td>\n",
       "      <td>MG</td>\n",
       "    </tr>\n",
       "    <tr>\n",
       "      <th>6</th>\n",
       "      <td>22</td>\n",
       "      <td>Online</td>\n",
       "      <td>na</td>\n",
       "    </tr>\n",
       "  </tbody>\n",
       "</table>\n",
       "</div>"
      ],
      "text/plain": [
       "   ID            Name State\n",
       "0   1   Florianópolis    SC\n",
       "1   2  Rio de Janeiro    RJ\n",
       "2   3    Porto Alegre    RS\n",
       "3   4        Curitiba    PR\n",
       "4   7       São Paulo    SP\n",
       "5   9  Belo Horizonte    MG\n",
       "6  22          Online    na"
      ]
     },
     "execution_count": 15,
     "metadata": {},
     "output_type": "execute_result"
    }
   ],
   "source": [
    "df_loja"
   ]
  },
  {
   "cell_type": "code",
   "execution_count": 16,
   "id": "119da5c4-3eea-4fe6-a4dc-79425f285e36",
   "metadata": {},
   "outputs": [],
   "source": [
    "map_loja_ID_city =  dict(zip(df_loja.ID, df_loja.Name))"
   ]
  },
  {
   "cell_type": "code",
   "execution_count": 17,
   "id": "904f5a2b-372d-4620-acc3-4b8eaabbff56",
   "metadata": {},
   "outputs": [
    {
     "data": {
      "text/plain": [
       "Florianópolis     8230\n",
       "Rio de Janeiro    6838\n",
       "Porto Alegre      6167\n",
       "Curitiba          5172\n",
       "São Paulo         3588\n",
       "Belo Horizonte    1845\n",
       "Online             913\n",
       "Name: StoreCity, dtype: int64"
      ]
     },
     "execution_count": 17,
     "metadata": {},
     "output_type": "execute_result"
    }
   ],
   "source": [
    "df_venda[\"StoreCity\"] = df_venda.StoreID.map(map_loja_ID_city)\n",
    "df_venda.StoreCity.value_counts()"
   ]
  }
 ],
 "metadata": {
  "kernelspec": {
   "display_name": "Python 3 (ipykernel)",
   "language": "python",
   "name": "python3"
  },
  "language_info": {
   "codemirror_mode": {
    "name": "ipython",
    "version": 3
   },
   "file_extension": ".py",
   "mimetype": "text/x-python",
   "name": "python",
   "nbconvert_exporter": "python",
   "pygments_lexer": "ipython3",
   "version": "3.10.7"
  }
 },
 "nbformat": 4,
 "nbformat_minor": 5
}
